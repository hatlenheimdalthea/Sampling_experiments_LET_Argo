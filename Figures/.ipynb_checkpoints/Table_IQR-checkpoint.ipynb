{
 "cells": [
  {
   "cell_type": "markdown",
   "id": "a27b138a-b548-4840-97d4-c455460b5ff0",
   "metadata": {},
   "source": [
    "This notebook calculates bias and RMSE for the different sampling experiments and the interquartile range. Reconstructions are compared to the \"model truth\" of the Large Ensemble Testbed. \n",
    "\n",
    "This notebook was created by Thea Hatlen Heimdal, in collaboration with Abby Shaum Julius Busecke. "
   ]
  },
  {
   "cell_type": "code",
   "execution_count": null,
   "id": "d8810132-7090-4fe5-8da8-1555ed6d55c0",
   "metadata": {},
   "outputs": [],
   "source": [
    "import numpy as np\n",
    "import pandas as pd\n",
    "import xarray as xr\n",
    "import pickle\n",
    "import matplotlib.pyplot as plt"
   ]
  },
  {
   "cell_type": "code",
   "execution_count": 2,
   "id": "0ad71bcb-8949-46e3-a634-0eacf7539b67",
   "metadata": {},
   "outputs": [],
   "source": [
    "# List of all LET members\n",
    "\n",
    "path_LET = \"/local/data/artemis/workspace/theimdal/saildrone/LET_pickle_files/members_LET_dict.pickle\" \n",
    "\n",
    "with open(path_LET,'rb') as handle:\n",
    "    mems_dict = pickle.load(handle)"
   ]
  },
  {
   "cell_type": "markdown",
   "id": "a36c2e90-b4d0-49a9-bc2e-5ed625910d62",
   "metadata": {},
   "source": [
    "## Bring in reconstructions and testbed truth"
   ]
  },
  {
   "cell_type": "markdown",
   "id": "a9e605c4-9b89-49fd-b902-5f04b174909d",
   "metadata": {},
   "source": [
    "### SOCAT baseline"
   ]
  },
  {
   "cell_type": "code",
   "execution_count": 3,
   "id": "7e50f43d-e43c-43c1-8e44-6658360411e4",
   "metadata": {},
   "outputs": [],
   "source": [
    "datasets_ens = []\n",
    "for ens, mem_list in mems_dict.items():\n",
    "    datasets_member = []\n",
    "    for n_member, member in enumerate(mem_list):\n",
    "        if ens == \"CanESM2\":\n",
    "            date_str = '201712'\n",
    "        else:\n",
    "            date_str = '201701'\n",
    "        truth_path = f\"/data/artemis/simulations/LET/{ens}/member_{member}/pCO2_2D_mon_{ens}{member}_1x1_198201-{date_str}.nc\"\n",
    "        recon_path = f\"/data/artemis/workspace/theimdal/SOCAT/models/reconstructions/xg/{ens}/member_{member}/recon_pCO2DIC_pCO2_2D_mon_{ens}_{member}_1x1_198201-201701.nc\"\n",
    "        kwargs = dict(chunks={'time':-1})\n",
    "        \n",
    "        truth = xr.open_dataset(truth_path, **kwargs).pCO2\n",
    "        recon = xr.open_dataset(recon_path, **kwargs).pCO2_unseen_recon\n",
    "        \n",
    "        # assign_dimension coordinates\n",
    "        truth = truth.assign_coords(status='truth')\n",
    "        recon = recon.assign_coords(status='reconstructed')\n",
    "        \n",
    "        # make sure they have the same time coordinates\n",
    "        truth = truth.assign_coords(time=recon['time'].data)\n",
    "        \n",
    "        member_ds = xr.concat([truth, recon], dim='status')\n",
    "        \n",
    "        # add member_dimension and coordinate\n",
    "        member_ds = member_ds.assign_coords(n_member=n_member, member=member)\n",
    "        \n",
    "        datasets_member.append(member_ds)\n",
    "    \n",
    "    ds_ens = xr.concat(datasets_member, dim='n_member')\n",
    "    ds_ens = ds_ens.assign_coords(ensemble=ens)\n",
    "    \n",
    "    \n",
    "    datasets_ens.append(ds_ens)\n",
    "    \n",
    "ds_SOCAT_only = xr.concat(datasets_ens, dim='ensemble', join='override') "
   ]
  },
  {
   "cell_type": "markdown",
   "id": "b8e0c660-efe8-4d1f-b1c6-b1a05253d41b",
   "metadata": {},
   "source": [
    "### Historical + SOCAT"
   ]
  },
  {
   "cell_type": "markdown",
   "id": "879edbf4-55ed-466b-8a2f-68c29f23aedc",
   "metadata": {},
   "source": [
    "### Baseline"
   ]
  },
  {
   "cell_type": "code",
   "execution_count": 4,
   "id": "2a2b5cb5-c54d-4d40-bb89-aeb6b8d7c3b2",
   "metadata": {},
   "outputs": [],
   "source": [
    "datasets_ens = []\n",
    "for ens, mem_list in mems_dict.items():\n",
    "    datasets_member = []\n",
    "    for n_member, member in enumerate(mem_list):\n",
    "        if ens == \"CanESM2\":\n",
    "            date_str = '201712'\n",
    "        else:\n",
    "            date_str = '201701'\n",
    "        truth_path = f\"/data/artemis/simulations/LET/{ens}/member_{member}/pCO2_2D_mon_{ens}{member}_1x1_198201-{date_str}.nc\"\n",
    "        recon_path = f\"/data/artemis/workspace/theimdal/GO-BGC/models/500_floats/baseline/reconstructions/xg/{ens}/member_{member}/recon_pCO2DIC_pCO2_2D_mon_{ens}_{member}_1x1_198201-201701.nc\"\n",
    "        kwargs = dict(chunks={'time':-1})\n",
    "        \n",
    "        truth = xr.open_dataset(truth_path, **kwargs).pCO2\n",
    "        recon = xr.open_dataset(recon_path, **kwargs).pCO2_unseen_recon\n",
    "        \n",
    "        # assign_dimension coordinates\n",
    "        truth = truth.assign_coords(status='truth')\n",
    "        recon = recon.assign_coords(status='reconstructed')\n",
    "        \n",
    "        # make sure they have the same time coordinates\n",
    "        truth = truth.assign_coords(time=recon['time'].data)\n",
    "        \n",
    "        member_ds = xr.concat([truth, recon], dim='status')\n",
    "        \n",
    "        # add member_dimension and coordinate\n",
    "        member_ds = member_ds.assign_coords(n_member=n_member, member=member)\n",
    "        \n",
    "        datasets_member.append(member_ds)\n",
    "    \n",
    "    ds_ens = xr.concat(datasets_member, dim='n_member')\n",
    "    ds_ens = ds_ens.assign_coords(ensemble=ens)\n",
    "    \n",
    "    \n",
    "    datasets_ens.append(ds_ens)\n",
    "    \n",
    "ds_500_historical_baseline = xr.concat(datasets_ens, dim='ensemble', join='override') "
   ]
  },
  {
   "cell_type": "markdown",
   "id": "123b1170-1025-47ce-8363-13c28c6dfd19",
   "metadata": {},
   "source": [
    "### Biased floats"
   ]
  },
  {
   "cell_type": "code",
   "execution_count": 5,
   "id": "751aeb45-6d5d-4ca6-88e5-4ccda6a5df0a",
   "metadata": {},
   "outputs": [],
   "source": [
    "datasets_ens = []\n",
    "for ens, mem_list in mems_dict.items():\n",
    "    datasets_member = []\n",
    "    for n_member, member in enumerate(mem_list):\n",
    "        if ens == \"CanESM2\":\n",
    "            date_str = '201712'\n",
    "        else:\n",
    "            date_str = '201701'\n",
    "        truth_path = f\"/data/artemis/simulations/LET/{ens}/member_{member}/pCO2_2D_mon_{ens}{member}_1x1_198201-{date_str}.nc\"\n",
    "        recon_path = f\"/data/artemis/workspace/theimdal/GO-BGC/models/500_floats/bias4/reconstructions/xg/{ens}/member_{member}/recon_pCO2DIC_pCO2_2D_mon_{ens}_{member}_1x1_198201-201701.nc\"\n",
    "        kwargs = dict(chunks={'time':-1})\n",
    "        \n",
    "        truth = xr.open_dataset(truth_path, **kwargs).pCO2\n",
    "        recon = xr.open_dataset(recon_path, **kwargs).pCO2_unseen_recon\n",
    "        \n",
    "        # assign_dimension coordinates\n",
    "        truth = truth.assign_coords(status='truth')\n",
    "        recon = recon.assign_coords(status='reconstructed')\n",
    "        \n",
    "        # make sure they have the same time coordinates\n",
    "        truth = truth.assign_coords(time=recon['time'].data)\n",
    "        \n",
    "        member_ds = xr.concat([truth, recon], dim='status')\n",
    "        \n",
    "        # add member_dimension and coordinate\n",
    "        member_ds = member_ds.assign_coords(n_member=n_member, member=member)\n",
    "        \n",
    "        datasets_member.append(member_ds)\n",
    "    \n",
    "    ds_ens = xr.concat(datasets_member, dim='n_member')\n",
    "    ds_ens = ds_ens.assign_coords(ensemble=ens)\n",
    "    \n",
    "    \n",
    "    datasets_ens.append(ds_ens)\n",
    "    \n",
    "ds_500_historical_bias = xr.concat(datasets_ens, dim='ensemble', join='override') "
   ]
  },
  {
   "cell_type": "markdown",
   "id": "245c49cb-741e-4efd-b00c-8709b2af9d16",
   "metadata": {},
   "source": [
    "### Floats with random uncertainty\n"
   ]
  },
  {
   "cell_type": "code",
   "execution_count": 6,
   "id": "855a0ce5-2caf-483d-8b78-64b0b8d4c58b",
   "metadata": {},
   "outputs": [],
   "source": [
    "datasets_ens = []\n",
    "for ens, mem_list in mems_dict.items():\n",
    "    datasets_member = []\n",
    "    for n_member, member in enumerate(mem_list):\n",
    "        if ens == \"CanESM2\":\n",
    "            date_str = '201712'\n",
    "        else:\n",
    "            date_str = '201701'\n",
    "        truth_path = f\"/data/artemis/simulations/LET/{ens}/member_{member}/pCO2_2D_mon_{ens}{member}_1x1_198201-{date_str}.nc\"\n",
    "        recon_path = f\"/data/artemis/workspace/theimdal/GO-BGC/models/500_floats/uncertainty11/reconstructions/xg/{ens}/member_{member}/recon_pCO2DIC_pCO2_2D_mon_{ens}_{member}_1x1_198201-201701.nc\"\n",
    "        kwargs = dict(chunks={'time':-1})\n",
    "        \n",
    "        truth = xr.open_dataset(truth_path, **kwargs).pCO2\n",
    "        recon = xr.open_dataset(recon_path, **kwargs).pCO2_unseen_recon\n",
    "        \n",
    "        # assign_dimension coordinates\n",
    "        truth = truth.assign_coords(status='truth')\n",
    "        recon = recon.assign_coords(status='reconstructed')\n",
    "        \n",
    "        # make sure they have the same time coordinates\n",
    "        truth = truth.assign_coords(time=recon['time'].data)\n",
    "        \n",
    "        member_ds = xr.concat([truth, recon], dim='status')\n",
    "        \n",
    "        # add member_dimension and coordinate\n",
    "        member_ds = member_ds.assign_coords(n_member=n_member, member=member)\n",
    "        \n",
    "        datasets_member.append(member_ds)\n",
    "    \n",
    "    ds_ens = xr.concat(datasets_member, dim='n_member')\n",
    "    ds_ens = ds_ens.assign_coords(ensemble=ens)\n",
    "    \n",
    "    \n",
    "    datasets_ens.append(ds_ens)\n",
    "    \n",
    "ds_500_historical_uncertainty = xr.concat(datasets_ens, dim='ensemble', join='override') "
   ]
  },
  {
   "cell_type": "markdown",
   "id": "4d186ff0-24f2-409e-b169-a7dacfb4670b",
   "metadata": {},
   "source": [
    "## Optimized + SOCAT"
   ]
  },
  {
   "cell_type": "markdown",
   "id": "7b5968d3-028a-4137-89db-013dfbe6b21c",
   "metadata": {},
   "source": [
    "### Baseline"
   ]
  },
  {
   "cell_type": "code",
   "execution_count": 7,
   "id": "9fadf2cf-bbd6-44c3-9f5e-ea20b030ab17",
   "metadata": {},
   "outputs": [],
   "source": [
    "datasets_ens = []\n",
    "for ens, mem_list in mems_dict.items():\n",
    "    datasets_member = []\n",
    "    for n_member, member in enumerate(mem_list):\n",
    "        if ens == \"CanESM2\":\n",
    "            date_str = '201712'\n",
    "        else:\n",
    "            date_str = '201701'\n",
    "        truth_path = f\"/data/artemis/simulations/LET/{ens}/member_{member}/pCO2_2D_mon_{ens}{member}_1x1_198201-{date_str}.nc\"\n",
    "        recon_path = f\"/data/artemis/workspace/theimdal/GO-BGC/models/500_floats_optimized/baseline/reconstructions/xg/{ens}/member_{member}/recon_pCO2DIC_pCO2_2D_mon_{ens}_{member}_1x1_198201-201701.nc\"\n",
    "        kwargs = dict(chunks={'time':-1})\n",
    "        \n",
    "        truth = xr.open_dataset(truth_path, **kwargs).pCO2\n",
    "        recon = xr.open_dataset(recon_path, **kwargs).pCO2_unseen_recon\n",
    "        \n",
    "        # assign_dimension coordinates\n",
    "        truth = truth.assign_coords(status='truth')\n",
    "        recon = recon.assign_coords(status='reconstructed')\n",
    "        \n",
    "        # make sure they have the same time coordinates\n",
    "        truth = truth.assign_coords(time=recon['time'].data)\n",
    "        \n",
    "        member_ds = xr.concat([truth, recon], dim='status')\n",
    "        \n",
    "        # add member_dimension and coordinate\n",
    "        member_ds = member_ds.assign_coords(n_member=n_member, member=member)\n",
    "        \n",
    "        datasets_member.append(member_ds)\n",
    "    \n",
    "    ds_ens = xr.concat(datasets_member, dim='n_member')\n",
    "    ds_ens = ds_ens.assign_coords(ensemble=ens)\n",
    "    \n",
    "    \n",
    "    datasets_ens.append(ds_ens)\n",
    "    \n",
    "ds_500_optimized_baseline = xr.concat(datasets_ens, dim='ensemble', join='override') "
   ]
  },
  {
   "cell_type": "markdown",
   "id": "45cedc1b-e0de-4c3e-84a2-48215146c5a8",
   "metadata": {},
   "source": [
    "### Biased floats"
   ]
  },
  {
   "cell_type": "code",
   "execution_count": 8,
   "id": "236d9a30-82f9-4099-a0b2-e93e4be6281a",
   "metadata": {},
   "outputs": [],
   "source": [
    "datasets_ens = []\n",
    "for ens, mem_list in mems_dict.items():\n",
    "    datasets_member = []\n",
    "    for n_member, member in enumerate(mem_list):\n",
    "        if ens == \"CanESM2\":\n",
    "            date_str = '201712'\n",
    "        else:\n",
    "            date_str = '201701'\n",
    "        truth_path = f\"/data/artemis/simulations/LET/{ens}/member_{member}/pCO2_2D_mon_{ens}{member}_1x1_198201-{date_str}.nc\"\n",
    "        recon_path = f\"/data/artemis/workspace/theimdal/GO-BGC/models/500_floats_optimized/bias4/reconstructions/xg/{ens}/member_{member}/recon_pCO2DIC_pCO2_2D_mon_{ens}_{member}_1x1_198201-201701.nc\"\n",
    "        kwargs = dict(chunks={'time':-1})\n",
    "        \n",
    "        truth = xr.open_dataset(truth_path, **kwargs).pCO2\n",
    "        recon = xr.open_dataset(recon_path, **kwargs).pCO2_unseen_recon\n",
    "        \n",
    "        # assign_dimension coordinates\n",
    "        truth = truth.assign_coords(status='truth')\n",
    "        recon = recon.assign_coords(status='reconstructed')\n",
    "        \n",
    "        # make sure they have the same time coordinates\n",
    "        truth = truth.assign_coords(time=recon['time'].data)\n",
    "        \n",
    "        member_ds = xr.concat([truth, recon], dim='status')\n",
    "        \n",
    "        # add member_dimension and coordinate\n",
    "        member_ds = member_ds.assign_coords(n_member=n_member, member=member)\n",
    "        \n",
    "        datasets_member.append(member_ds)\n",
    "    \n",
    "    ds_ens = xr.concat(datasets_member, dim='n_member')\n",
    "    ds_ens = ds_ens.assign_coords(ensemble=ens)\n",
    "    \n",
    "    \n",
    "    datasets_ens.append(ds_ens)\n",
    "    \n",
    "ds_500_optimized_bias = xr.concat(datasets_ens, dim='ensemble', join='override') "
   ]
  },
  {
   "cell_type": "markdown",
   "id": "cf27f06b-68f8-423b-b331-ce2e349aae22",
   "metadata": {},
   "source": [
    "### Floats with random uncertainty"
   ]
  },
  {
   "cell_type": "code",
   "execution_count": 9,
   "id": "9d1ed6c4-0a48-40d1-a06c-e8820699b781",
   "metadata": {},
   "outputs": [],
   "source": [
    "datasets_ens = []\n",
    "for ens, mem_list in mems_dict.items():\n",
    "    datasets_member = []\n",
    "    for n_member, member in enumerate(mem_list):\n",
    "        if ens == \"CanESM2\":\n",
    "            date_str = '201712'\n",
    "        else:\n",
    "            date_str = '201701'\n",
    "        truth_path = f\"/data/artemis/simulations/LET/{ens}/member_{member}/pCO2_2D_mon_{ens}{member}_1x1_198201-{date_str}.nc\"\n",
    "        recon_path = f\"/data/artemis/workspace/theimdal/GO-BGC/models/500_floats_optimized/uncertainty11/reconstructions/xg/{ens}/member_{member}/recon_pCO2DIC_pCO2_2D_mon_{ens}_{member}_1x1_198201-201701.nc\"\n",
    "        kwargs = dict(chunks={'time':-1})\n",
    "        \n",
    "        truth = xr.open_dataset(truth_path, **kwargs).pCO2\n",
    "        recon = xr.open_dataset(recon_path, **kwargs).pCO2_unseen_recon\n",
    "        \n",
    "        # assign_dimension coordinates\n",
    "        truth = truth.assign_coords(status='truth')\n",
    "        recon = recon.assign_coords(status='reconstructed')\n",
    "        \n",
    "        # make sure they have the same time coordinates\n",
    "        truth = truth.assign_coords(time=recon['time'].data)\n",
    "        \n",
    "        member_ds = xr.concat([truth, recon], dim='status')\n",
    "        \n",
    "        # add member_dimension and coordinate\n",
    "        member_ds = member_ds.assign_coords(n_member=n_member, member=member)\n",
    "        \n",
    "        datasets_member.append(member_ds)\n",
    "    \n",
    "    ds_ens = xr.concat(datasets_member, dim='n_member')\n",
    "    ds_ens = ds_ens.assign_coords(ensemble=ens)\n",
    "    \n",
    "    \n",
    "    datasets_ens.append(ds_ens)\n",
    "    \n",
    "ds_500_optimized_uncertainty = xr.concat(datasets_ens, dim='ensemble', join='override') "
   ]
  },
  {
   "cell_type": "markdown",
   "id": "38c3e601-201e-4e93-bd36-1ec7836aab5f",
   "metadata": {},
   "source": [
    "### Calculate global bias over 2000-2016"
   ]
  },
  {
   "cell_type": "code",
   "execution_count": 4,
   "id": "d6eca679-9a4e-47b0-84ba-009c861e156e",
   "metadata": {},
   "outputs": [],
   "source": [
    "SOCAT = ds_SOCAT_only.diff('status').sel(time=slice(\"2000\",\"2016\")).mean(['time', 'ylat', 'xlon','status'])\n",
    "\n",
    "historical_baseline = ds_500_historical_baseline.diff('status').sel(time=slice(\"2000\",\"2016\")).mean(['time', 'ylat', 'xlon','status'])\n",
    "historical_bias = ds_500_historical_bias.diff('status').sel(time=slice(\"2000\",\"2016\")).mean(['time', 'ylat', 'xlon','status'])\n",
    "historical_uncertainty = ds_500_historical_uncertainty.diff('status').sel(time=slice(\"2000\",\"2016\")).mean(['time', 'ylat', 'xlon','status'])\n",
    "\n",
    "optimized_baseline = ds_500_optimized_baseline.diff('status').sel(time=slice(\"2000\",\"2016\")).mean(['time', 'ylat', 'xlon','status'])\n",
    "optimized_bias = ds_500_optimized_bias.diff('status').sel(time=slice(\"2000\",\"2016\")).mean(['time', 'ylat', 'xlon','status'])\n",
    "optimized_uncertainty = ds_500_optimized_uncertainty.diff('status').sel(time=slice(\"2000\",\"2016\")).mean(['time', 'ylat', 'xlon','status'])"
   ]
  },
  {
   "cell_type": "markdown",
   "id": "8ea32866-a8c8-48db-a13b-0b1aa6c4c22c",
   "metadata": {},
   "source": [
    "### Calculate 1 IQR"
   ]
  },
  {
   "cell_type": "markdown",
   "id": "648f8b4a-610c-4c9c-a1b2-1cc987f46365",
   "metadata": {},
   "source": [
    "#### SOCAT baseline"
   ]
  },
  {
   "cell_type": "code",
   "execution_count": 11,
   "id": "256acff2-030d-4256-b40f-2c6f6c8505e8",
   "metadata": {},
   "outputs": [
    {
     "data": {
      "text/plain": [
       "(0.5212551459037529, 0.8858042701986477, 0.36454912429489483)"
      ]
     },
     "execution_count": 11,
     "metadata": {},
     "output_type": "execute_result"
    }
   ],
   "source": [
    "q75_socat, q25_socat = np.percentile(SOCAT, [75 ,25])\n",
    "iqr_socat = q75_socat - q25_socat\n",
    "iqr_socat, q75_socat, q25_socat"
   ]
  },
  {
   "cell_type": "markdown",
   "id": "7e5419bd-453e-4db0-b489-5c59f0ea9b9d",
   "metadata": {},
   "source": [
    "#### Historical"
   ]
  },
  {
   "cell_type": "code",
   "execution_count": 12,
   "id": "0a68fda3-2b75-47b3-8524-81fd40ffaf31",
   "metadata": {},
   "outputs": [
    {
     "data": {
      "text/plain": [
       "(0.35669344806296294, 0.26921840224756466, -0.08747504581539828)"
      ]
     },
     "execution_count": 12,
     "metadata": {},
     "output_type": "execute_result"
    }
   ],
   "source": [
    "q75_hbas, q25_hbas = np.percentile(historical_baseline, [75 ,25])\n",
    "iqr_hbas = q75_hbas - q25_hbas\n",
    "iqr_hbas, q75_hbas, q25_hbas"
   ]
  },
  {
   "cell_type": "code",
   "execution_count": 13,
   "id": "be4732fd-3bc5-4e90-940d-8d216be3e824",
   "metadata": {},
   "outputs": [
    {
     "data": {
      "text/plain": [
       "(0.27403067315068874, 1.3012048635315425, 1.0271741903808538)"
      ]
     },
     "execution_count": 13,
     "metadata": {},
     "output_type": "execute_result"
    }
   ],
   "source": [
    "q75_hbias, q25_hbias = np.percentile(historical_bias, [75 ,25])\n",
    "iqr_hbias = q75_hbias - q25_hbias\n",
    "iqr_hbias, q75_hbias, q25_hbias"
   ]
  },
  {
   "cell_type": "code",
   "execution_count": 14,
   "id": "b2a8fc83-c1aa-48c7-a837-5e90dd6a1fdb",
   "metadata": {},
   "outputs": [
    {
     "data": {
      "text/plain": [
       "(0.3268171392499563, 0.27230483436800024, -0.054512304881956075)"
      ]
     },
     "execution_count": 14,
     "metadata": {},
     "output_type": "execute_result"
    }
   ],
   "source": [
    "q75_hunc, q25_hunc = np.percentile(historical_uncertainty, [75 ,25])\n",
    "iqr_hunc = q75_hunc - q25_hunc\n",
    "iqr_hunc, q75_hunc, q25_hunc"
   ]
  },
  {
   "cell_type": "markdown",
   "id": "e115acc8-9f12-468c-9d55-e64367b9c18d",
   "metadata": {},
   "source": [
    "#### Optimized"
   ]
  },
  {
   "cell_type": "code",
   "execution_count": 15,
   "id": "45eb572f-f0c4-4f5a-953a-67f351bcbc57",
   "metadata": {},
   "outputs": [
    {
     "data": {
      "text/plain": [
       "(0.14325477692158067, 0.04515925882100944, -0.09809551810057124)"
      ]
     },
     "execution_count": 15,
     "metadata": {},
     "output_type": "execute_result"
    }
   ],
   "source": [
    "q75_obas, q25_obas = np.percentile(optimized_baseline, [75 ,25])\n",
    "iqr_obas = q75_obas - q25_obas\n",
    "iqr_obas, q75_obas, q25_obas"
   ]
  },
  {
   "cell_type": "code",
   "execution_count": 16,
   "id": "25d1941a-6382-4416-806a-930e1b682888",
   "metadata": {},
   "outputs": [
    {
     "data": {
      "text/plain": [
       "(0.16623165582402688, 1.624613285673324, 1.458381629849297)"
      ]
     },
     "execution_count": 16,
     "metadata": {},
     "output_type": "execute_result"
    }
   ],
   "source": [
    "q75_obias, q25_obias = np.percentile(optimized_bias, [75 ,25])\n",
    "iqr_obias = q75_obias - q25_obias\n",
    "iqr_obias, q75_obias, q25_obias"
   ]
  },
  {
   "cell_type": "code",
   "execution_count": 17,
   "id": "1e602fbf-fa0a-42b4-9419-27ff37a0d119",
   "metadata": {},
   "outputs": [
    {
     "data": {
      "text/plain": [
       "(0.15151229252162507, 0.031841268959600225, -0.11967102356202486)"
      ]
     },
     "execution_count": 17,
     "metadata": {},
     "output_type": "execute_result"
    }
   ],
   "source": [
    "q75_ounc, q25_ounc = np.percentile(optimized_uncertainty, [75 ,25])\n",
    "iqr_ounc = q75_ounc - q25_ounc\n",
    "iqr_ounc, q75_ounc, q25_ounc"
   ]
  },
  {
   "cell_type": "markdown",
   "id": "43f4292c-c618-4f5a-9546-3aa444aef03b",
   "metadata": {},
   "source": [
    "### Calculate global RMSE over 2000-2016"
   ]
  },
  {
   "cell_type": "code",
   "execution_count": 10,
   "id": "5dda5ee8-b52f-42d4-8e37-20593da46a00",
   "metadata": {},
   "outputs": [],
   "source": [
    "RMSE_SOCAT = xr.ufuncs.sqrt(((ds_SOCAT_only.diff('status'))**2).sel(time=slice('2000','2016')).mean(['time', 'ylat', 'xlon','status']))\n",
    "\n",
    "RMSE_historical_baseline = xr.ufuncs.sqrt(((ds_500_historical_baseline.diff('status'))**2).sel(time=slice('2000','2016')).mean(['time', 'ylat', 'xlon','status']))\n",
    "RMSE_historical_bias = xr.ufuncs.sqrt(((ds_500_historical_bias.diff('status'))**2).sel(time=slice('2000','2016')).mean(['time', 'ylat', 'xlon','status']))\n",
    "RMSE_historical_uncertainty = xr.ufuncs.sqrt(((ds_500_historical_uncertainty.diff('status'))**2).sel(time=slice('2000','2016')).mean(['time', 'ylat', 'xlon','status']))\n",
    "\n",
    "RMSE_optimized_baseline = xr.ufuncs.sqrt(((ds_500_optimized_baseline.diff('status'))**2).sel(time=slice('2000','2016')).mean(['time', 'ylat', 'xlon','status']))\n",
    "RMSE_optimized_bias = xr.ufuncs.sqrt(((ds_500_optimized_bias.diff('status'))**2).sel(time=slice('2000','2016')).mean(['time', 'ylat', 'xlon','status']))\n",
    "RMSE_optimized_uncertainty = xr.ufuncs.sqrt(((ds_500_optimized_uncertainty.diff('status'))**2).sel(time=slice('2000','2016')).mean(['time', 'ylat', 'xlon','status']))"
   ]
  },
  {
   "cell_type": "markdown",
   "id": "6d2b5e1f-f673-4691-b7bb-d106a85fd045",
   "metadata": {},
   "source": [
    "### Calculate 1 IQR"
   ]
  },
  {
   "cell_type": "markdown",
   "id": "67cebbc1-1c20-4ff0-ae00-ec48306e8172",
   "metadata": {},
   "source": [
    "#### SOCAT baseline"
   ]
  },
  {
   "cell_type": "code",
   "execution_count": 11,
   "id": "928c66f6-e453-4358-92e6-d30cdcf6ab93",
   "metadata": {},
   "outputs": [
    {
     "data": {
      "text/plain": [
       "0.3383394142414886"
      ]
     },
     "execution_count": 11,
     "metadata": {},
     "output_type": "execute_result"
    }
   ],
   "source": [
    "q75_socat, q25_socat = np.percentile(RMSE_SOCAT, [75 ,25])\n",
    "iqr_socat = q75_socat - q25_socat\n",
    "iqr_socat"
   ]
  },
  {
   "cell_type": "markdown",
   "id": "bb0dc0c4-012d-48c2-a470-90d94ee1e554",
   "metadata": {},
   "source": [
    "#### Historical"
   ]
  },
  {
   "cell_type": "code",
   "execution_count": 12,
   "id": "c330643d-7391-4a32-8f30-9772a532ef34",
   "metadata": {},
   "outputs": [
    {
     "data": {
      "text/plain": [
       "0.14599076437849057"
      ]
     },
     "execution_count": 12,
     "metadata": {},
     "output_type": "execute_result"
    }
   ],
   "source": [
    "q75_hbas, q25_hbas = np.percentile(RMSE_historical_baseline, [75 ,25])\n",
    "iqr_hbas = q75_hbas - q25_hbas\n",
    "iqr_hbas"
   ]
  },
  {
   "cell_type": "code",
   "execution_count": 13,
   "id": "c5163c81-6c95-4289-aedb-d993bdb4b5f5",
   "metadata": {},
   "outputs": [
    {
     "data": {
      "text/plain": [
       "0.18133205687982112"
      ]
     },
     "execution_count": 13,
     "metadata": {},
     "output_type": "execute_result"
    }
   ],
   "source": [
    "q75_hbias, q25_hbias = np.percentile(RMSE_historical_bias, [75 ,25])\n",
    "iqr_hbias = q75_hbias - q25_hbias\n",
    "iqr_hbias"
   ]
  },
  {
   "cell_type": "code",
   "execution_count": 14,
   "id": "96279f77-b812-4f11-b1bd-99043ebf27c6",
   "metadata": {},
   "outputs": [
    {
     "data": {
      "text/plain": [
       "0.20547132380134947"
      ]
     },
     "execution_count": 14,
     "metadata": {},
     "output_type": "execute_result"
    }
   ],
   "source": [
    "q75_hunc, q25_hunc = np.percentile(RMSE_historical_uncertainty, [75 ,25])\n",
    "iqr_hunc = q75_hunc - q25_hunc\n",
    "iqr_hunc"
   ]
  },
  {
   "cell_type": "markdown",
   "id": "feae72eb-83d9-4338-87d1-a1698469abff",
   "metadata": {},
   "source": [
    "#### Optimized"
   ]
  },
  {
   "cell_type": "code",
   "execution_count": 15,
   "id": "6c7bd31f-94cb-40b5-a50a-19dd424c9364",
   "metadata": {},
   "outputs": [
    {
     "data": {
      "text/plain": [
       "0.14213010009073912"
      ]
     },
     "execution_count": 15,
     "metadata": {},
     "output_type": "execute_result"
    }
   ],
   "source": [
    "q75_obas, q25_obas = np.percentile(RMSE_optimized_baseline, [75 ,25])\n",
    "iqr_obas = q75_obas - q25_obas\n",
    "iqr_obas"
   ]
  },
  {
   "cell_type": "code",
   "execution_count": 16,
   "id": "97f36299-6ce8-417c-88af-4702dbc4234a",
   "metadata": {},
   "outputs": [
    {
     "data": {
      "text/plain": [
       "0.17011829714364524"
      ]
     },
     "execution_count": 16,
     "metadata": {},
     "output_type": "execute_result"
    }
   ],
   "source": [
    "q75_obias, q25_obias = np.percentile(RMSE_optimized_bias, [75 ,25])\n",
    "iqr_obias = q75_obias - q25_obias\n",
    "iqr_obias"
   ]
  },
  {
   "cell_type": "code",
   "execution_count": 17,
   "id": "bfa7344f-af95-47ba-a972-24a35227b1c0",
   "metadata": {},
   "outputs": [
    {
     "data": {
      "text/plain": [
       "0.1602009141359062"
      ]
     },
     "execution_count": 17,
     "metadata": {},
     "output_type": "execute_result"
    }
   ],
   "source": [
    "q75_ounc, q25_ounc = np.percentile(RMSE_optimized_uncertainty, [75 ,25])\n",
    "iqr_ounc = q75_ounc - q25_ounc\n",
    "iqr_ounc"
   ]
  }
 ],
 "metadata": {
  "kernelspec": {
   "display_name": "cesm_play",
   "language": "python",
   "name": "cesm_play"
  },
  "language_info": {
   "codemirror_mode": {
    "name": "ipython",
    "version": 3
   },
   "file_extension": ".py",
   "mimetype": "text/x-python",
   "name": "python",
   "nbconvert_exporter": "python",
   "pygments_lexer": "ipython3",
   "version": "3.8.5"
  }
 },
 "nbformat": 4,
 "nbformat_minor": 5
}
